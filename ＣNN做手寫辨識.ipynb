{
  "nbformat": 4,
  "nbformat_minor": 0,
  "metadata": {
    "colab": {
      "provenance": [],
      "gpuType": "T4",
      "authorship_tag": "ABX9TyMLvzDCYS+wEmTvn3pYyI9p",
      "include_colab_link": true
    },
    "kernelspec": {
      "name": "python3",
      "display_name": "Python 3"
    },
    "language_info": {
      "name": "python"
    },
    "accelerator": "GPU"
  },
  "cells": [
    {
      "cell_type": "markdown",
      "metadata": {
        "id": "view-in-github",
        "colab_type": "text"
      },
      "source": [
        "<a href=\"https://colab.research.google.com/github/tsengchiungchen/MNIST/blob/main/%EF%BC%A3NN%E5%81%9A%E6%89%8B%E5%AF%AB%E8%BE%A8%E8%AD%98.ipynb\" target=\"_parent\"><img src=\"https://colab.research.google.com/assets/colab-badge.svg\" alt=\"Open In Colab\"/></a>"
      ]
    },
    {
      "cell_type": "code",
      "execution_count": null,
      "metadata": {
        "colab": {
          "base_uri": "https://localhost:8080/"
        },
        "id": "Xih7vChCZXHn",
        "outputId": "e3ccd715-8f79-4ba2-d6cd-8cba3c583f32"
      },
      "outputs": [
        {
          "output_type": "stream",
          "name": "stdout",
          "text": [
            "Downloading data from https://storage.googleapis.com/tensorflow/tf-keras-datasets/mnist.npz\n",
            "11490434/11490434 [==============================] - 1s 0us/step\n"
          ]
        }
      ],
      "source": [
        "from keras.datasets import mnist\n",
        "from keras.utils import np_utils\n",
        "import numpy as np\n",
        "\n",
        "np.random.seed(10)\n",
        "\n",
        "# Read MNIST data\n",
        "(X_Train, y_Train), (X_Test, y_Test) = mnist.load_data()\n",
        "\n",
        "# Translation of data\n",
        "X_Train4D = X_Train.reshape(X_Train.shape[0], 28, 28, 1).astype('float32')\n",
        "X_Test4D = X_Test.reshape(X_Test.shape[0], 28, 28, 1).astype('float32')"
      ]
    },
    {
      "cell_type": "code",
      "source": [
        "# Standardize feature data\n",
        "X_Train4D_norm = X_Train4D / 255\n",
        "X_Test4D_norm = X_Test4D /255\n",
        "\n",
        "# Label Onehot-encoding\n",
        "y_TrainOneHot = np_utils.to_categorical(y_Train)\n",
        "y_TestOneHot = np_utils.to_categorical(y_Test)"
      ],
      "metadata": {
        "id": "0DlfXZMTZu-l"
      },
      "execution_count": null,
      "outputs": []
    },
    {
      "cell_type": "code",
      "source": [
        "from keras.models import Sequential\n",
        "from keras.layers import Dense,Dropout,Flatten,Conv2D,MaxPool2D\n",
        "\n",
        "model = Sequential()\n",
        "# Create CN layer 1\n",
        "model.add(Conv2D(filters=16,\n",
        "                 kernel_size=(5,5),\n",
        "                 padding='same',\n",
        "                 input_shape=(28,28,1),\n",
        "                 activation='relu',\n",
        "                 name='conv2d_1'))\n",
        "# Create Max-Pool 1\n",
        "model.add(MaxPool2D(pool_size=(2,2), name='max_pooling2d_1'))\n",
        "\n",
        "# Create CN layer 2\n",
        "model.add(Conv2D(filters=36,\n",
        "                 kernel_size=(5,5),\n",
        "                 padding='same',\n",
        "                 input_shape=(28,28,1),\n",
        "                 activation='relu',\n",
        "                 name='conv2d_2'))\n",
        "\n",
        "# Create Max-Pool 2\n",
        "model.add(MaxPool2D(pool_size=(2,2), name='max_pooling2d_2'))\n",
        "\n",
        "# Add Dropout layer\n",
        "model.add(Dropout(0.25, name='dropout_1'))"
      ],
      "metadata": {
        "id": "MFyXZWNLZ3C3"
      },
      "execution_count": null,
      "outputs": []
    },
    {
      "cell_type": "code",
      "source": [
        "model.add(Flatten(name='flatten_1'))"
      ],
      "metadata": {
        "id": "QoUApzTgZ52Z"
      },
      "execution_count": null,
      "outputs": []
    },
    {
      "cell_type": "code",
      "source": [
        "model.add(Dense(128, activation='relu', name='dense_1'))\n",
        "model.add(Dropout(0.5, name='dropout_2'))"
      ],
      "metadata": {
        "id": "JsIMS64pZ8xs"
      },
      "execution_count": null,
      "outputs": []
    },
    {
      "cell_type": "code",
      "source": [
        "model.add(Dense(10, activation='softmax', name='dense_2'))"
      ],
      "metadata": {
        "id": "M1p7KuWvZ_Hp"
      },
      "execution_count": null,
      "outputs": []
    },
    {
      "cell_type": "code",
      "source": [
        "model.summary()\n",
        "print(\"\")"
      ],
      "metadata": {
        "colab": {
          "base_uri": "https://localhost:8080/"
        },
        "id": "eNwN52KpaBSl",
        "outputId": "e3be77b3-d57a-4976-a686-3a7b07f1d5c3"
      },
      "execution_count": null,
      "outputs": [
        {
          "output_type": "stream",
          "name": "stdout",
          "text": [
            "Model: \"sequential\"\n",
            "_________________________________________________________________\n",
            " Layer (type)                Output Shape              Param #   \n",
            "=================================================================\n",
            " conv2d_1 (Conv2D)           (None, 28, 28, 16)        416       \n",
            "                                                                 \n",
            " max_pooling2d_1 (MaxPooling  (None, 14, 14, 16)       0         \n",
            " 2D)                                                             \n",
            "                                                                 \n",
            " conv2d_2 (Conv2D)           (None, 14, 14, 36)        14436     \n",
            "                                                                 \n",
            " max_pooling2d_2 (MaxPooling  (None, 7, 7, 36)         0         \n",
            " 2D)                                                             \n",
            "                                                                 \n",
            " dropout_1 (Dropout)         (None, 7, 7, 36)          0         \n",
            "                                                                 \n",
            " flatten_1 (Flatten)         (None, 1764)              0         \n",
            "                                                                 \n",
            " dense_1 (Dense)             (None, 128)               225920    \n",
            "                                                                 \n",
            " dropout_2 (Dropout)         (None, 128)               0         \n",
            "                                                                 \n",
            " dense_2 (Dense)             (None, 10)                1290      \n",
            "                                                                 \n",
            "=================================================================\n",
            "Total params: 242,062\n",
            "Trainable params: 242,062\n",
            "Non-trainable params: 0\n",
            "_________________________________________________________________\n",
            "\n"
          ]
        }
      ]
    },
    {
      "cell_type": "code",
      "source": [
        "# 定義訓練方式\n",
        "model.compile(loss='categorical_crossentropy', optimizer='adam', metrics=['accuracy'])\n",
        "\n",
        "# 開始訓練\n",
        "train_history = model.fit(x=X_Train4D_norm,\n",
        "                          y=y_TrainOneHot, validation_split=0.2,\n",
        "                          epochs=10, batch_size=300, verbose=1)"
      ],
      "metadata": {
        "colab": {
          "base_uri": "https://localhost:8080/"
        },
        "id": "OXJd1tZDaGe3",
        "outputId": "0712c305-c080-4135-eaa7-d94ab3321076"
      },
      "execution_count": null,
      "outputs": [
        {
          "output_type": "stream",
          "name": "stdout",
          "text": [
            "Epoch 1/10\n",
            "160/160 [==============================] - 12s 10ms/step - loss: 0.4998 - accuracy: 0.8434 - val_loss: 0.1042 - val_accuracy: 0.9689\n",
            "Epoch 2/10\n",
            "160/160 [==============================] - 1s 8ms/step - loss: 0.1410 - accuracy: 0.9574 - val_loss: 0.0667 - val_accuracy: 0.9787\n",
            "Epoch 3/10\n",
            "160/160 [==============================] - 1s 8ms/step - loss: 0.1001 - accuracy: 0.9704 - val_loss: 0.0574 - val_accuracy: 0.9813\n",
            "Epoch 4/10\n",
            "160/160 [==============================] - 1s 8ms/step - loss: 0.0849 - accuracy: 0.9745 - val_loss: 0.0448 - val_accuracy: 0.9863\n",
            "Epoch 5/10\n",
            "160/160 [==============================] - 1s 8ms/step - loss: 0.0705 - accuracy: 0.9785 - val_loss: 0.0425 - val_accuracy: 0.9869\n",
            "Epoch 6/10\n",
            "160/160 [==============================] - 1s 7ms/step - loss: 0.0643 - accuracy: 0.9804 - val_loss: 0.0418 - val_accuracy: 0.9879\n",
            "Epoch 7/10\n",
            "160/160 [==============================] - 1s 7ms/step - loss: 0.0540 - accuracy: 0.9833 - val_loss: 0.0372 - val_accuracy: 0.9897\n",
            "Epoch 8/10\n",
            "160/160 [==============================] - 1s 7ms/step - loss: 0.0519 - accuracy: 0.9847 - val_loss: 0.0354 - val_accuracy: 0.9892\n",
            "Epoch 9/10\n",
            "160/160 [==============================] - 1s 7ms/step - loss: 0.0459 - accuracy: 0.9855 - val_loss: 0.0354 - val_accuracy: 0.9893\n",
            "Epoch 10/10\n",
            "160/160 [==============================] - 1s 7ms/step - loss: 0.0442 - accuracy: 0.9865 - val_loss: 0.0328 - val_accuracy: 0.9912\n"
          ]
        }
      ]
    },
    {
      "cell_type": "code",
      "source": [
        "import matplotlib.pyplot as plt\n",
        "def plot_image(image):\n",
        "    fig = plt.gcf()\n",
        "    fig.set_size_inches(2,2)\n",
        "    plt.imshow(image, cmap='binary')\n",
        "    plt.show()\n",
        "\n",
        "def plot_images_labels_predict(images, labels, prediction, idx, num=10):\n",
        "    fig = plt.gcf()\n",
        "    fig.set_size_inches(12, 14)\n",
        "    if num > 25: num = 25\n",
        "    for i in range(0, num):\n",
        "        ax=plt.subplot(5,5, 1+i)\n",
        "        ax.imshow(images[idx], cmap='binary')\n",
        "        title = \"l=\" + str(labels[idx])\n",
        "        if len(prediction) > 0:\n",
        "            title = \"l={},p={}\".format(str(labels[idx]), str(prediction[idx]))\n",
        "        else:\n",
        "            title = \"l={}\".format(str(labels[idx]))\n",
        "        ax.set_title(title, fontsize=10)\n",
        "        ax.set_xticks([]); ax.set_yticks([])\n",
        "        idx+=1\n",
        "    plt.show()\n",
        "\n",
        "def show_train_history(train_history, train, validation):\n",
        "    plt.plot(train_history.history[train])\n",
        "    plt.plot(train_history.history[validation])\n",
        "    plt.title('Train History')\n",
        "    plt.ylabel(train)\n",
        "    plt.xlabel('Epoch')\n",
        "    plt.legend(['train', 'validation'], loc='upper left')\n",
        "    plt.show()"
      ],
      "metadata": {
        "id": "h2o90oJ4ciNp"
      },
      "execution_count": null,
      "outputs": []
    },
    {
      "cell_type": "code",
      "source": [
        "show_train_history(train_history, 'accuracy', 'val_accuracy')"
      ],
      "metadata": {
        "colab": {
          "base_uri": "https://localhost:8080/",
          "height": 472
        },
        "id": "TEc45eCYdg2e",
        "outputId": "b1b6085d-5be9-4430-d688-9b6ffcfa4f34"
      },
      "execution_count": null,
      "outputs": [
        {
          "output_type": "display_data",
          "data": {
            "text/plain": [
              "<Figure size 640x480 with 1 Axes>"
            ],
            "image/png": "[encoded data removed]"
          },
          "metadata": {}
        }
      ]
    },
    {
      "cell_type": "code",
      "source": [
        "show_train_history(train_history, 'loss', 'val_loss')"
      ],
      "metadata": {
        "colab": {
          "base_uri": "https://localhost:8080/",
          "height": 472
        },
        "id": "QSzYIPc-eMgF",
        "outputId": "6610cb8d-c853-4022-b73c-b340efcf6f54"
      },
      "execution_count": null,
      "outputs": [
        {
          "output_type": "display_data",
          "data": {
            "text/plain": [
              "<Figure size 640x480 with 1 Axes>"
            ],
            "image/png": "[encoded data removed]"
          },
          "metadata": {}
        }
      ]
    },
    {
      "cell_type": "code",
      "source": [
        "scores = model.evaluate(X_Test4D_norm, y_TestOneHot)\n",
        "print()\n",
        "print(\"\\t[Info] Accuracy of testing data = {:2.1f}%\".format(scores[1]*100.0))"
      ],
      "metadata": {
        "colab": {
          "base_uri": "https://localhost:8080/"
        },
        "id": "kie4q7blbmC7",
        "outputId": "980b4c50-487e-4b1c-840f-87891ce3f1e9"
      },
      "execution_count": null,
      "outputs": [
        {
          "output_type": "stream",
          "name": "stdout",
          "text": [
            "313/313 [==============================] - 1s 3ms/step - loss: 0.0261 - accuracy: 0.9915\n",
            "\n",
            "\t[Info] Accuracy of testing data = 99.2%\n"
          ]
        }
      ]
    },
    {
      "cell_type": "markdown",
      "source": [
        "print(\"\\t[Info] Making prediction of X_Test4D_norm\")  \n",
        "predict_x=model.predict(X_Test4D_norm)\n",
        "predict=np.argmax(predict,axis=1)\n",
        "\n",
        "print()  \n",
        "print(\"\\t[Info] Show 10 prediction result (From 240):\")  \n",
        "print(\"%s\\n\" % (predict[240:250]))"
      ],
      "metadata": {
        "id": "KhgpqcuYegkt"
      }
    }
  ]
}